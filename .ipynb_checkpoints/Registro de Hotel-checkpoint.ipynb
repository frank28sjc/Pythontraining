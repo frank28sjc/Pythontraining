{
 "cells": [
  {
   "cell_type": "markdown",
   "id": "e8a3b055",
   "metadata": {},
   "source": [
    "# Exercícios\n",
    "\n",
    "## 1. Criando um Registro de Hóspedes\n",
    "\n",
    "Digamos que você está criando o sistema para registrar a chegada de hóspedes em um hotel. No hotel, os hóspedes podem ter quartos com 1, 2, 3 e 4 pessoas. Seu sistema deve conseguir:\n",
    "\n",
    "1. Identificar quantas pessoas o hóspede que acabou de chegar vai ter no quarto (perguntando por meio de input)\n",
    "2. De acordo com a quantidade de pessoas do hóspede, ele deve fazer um for para perguntar o cpf e o nome de cada pessoa, a fim de registrá-la no quarto (2 inputs para cada pessoa, 1 para o cpf e outro para o nome)\n",
    "3. O seu programa então deve gerar uma lista com todas as pessoas que ficarão no quarto em que cada item dessa lista é o nome da pessoa e o cpf da pessoa, assim:"
   ]
  },
  {
   "cell_type": "code",
   "execution_count": 1,
   "id": "d8d17905",
   "metadata": {},
   "outputs": [],
   "source": [
    "quarto = [\n",
    "    ['João', 'cpf:00000000000'],\n",
    "    ['Julia', 'cpf:11111111111'],\n",
    "    ['Marcus', 'cpf:22222222222'],\n",
    "    ['Maria', 'cpf:33333333333'],\n",
    "]"
   ]
  },
  {
   "cell_type": "markdown",
   "id": "cbfc4599",
   "metadata": {},
   "source": [
    "Identificar quantas pessoas o hospede que acabou de chegar vai ter no quarto (perguntando por meio do input)"
   ]
  },
  {
   "cell_type": "code",
   "execution_count": 2,
   "id": "e2f0cb51",
   "metadata": {},
   "outputs": [
    {
     "name": "stdout",
     "output_type": "stream",
     "text": [
      "Quantas pessoas serão hospedadas no quarto: 2\n",
      "Insira o nome do hospede: marint lepend\n",
      "Digite o numero de CPF12345678911\n",
      "Insira o nome do hospede: Flavio gonçalves\n",
      "Digite o numero de CPF0987654321\n",
      "[['marint lepend', 12345678911], ['Flavio gonçalves', 987654321]]\n"
     ]
    }
   ],
   "source": [
    "qtde_pessoas = int(input(\"Quantas pessoas serão hospedadas no quarto: \"))\n",
    "quarto = []\n",
    "\n",
    "for i in range(qtde_pessoas):\n",
    "    nome = input(\"Insira o nome do hospede: \")\n",
    "    cpf = int(input(\"Digite o numero de CPF\"))\n",
    "    hospede = [nome, cpf]\n",
    "    quarto.append(hospede)\n",
    "    \n",
    "print(quarto)"
   ]
  },
  {
   "cell_type": "code",
   "execution_count": null,
   "id": "7f311091",
   "metadata": {},
   "outputs": [],
   "source": []
  }
 ],
 "metadata": {
  "kernelspec": {
   "display_name": "Python 3 (ipykernel)",
   "language": "python",
   "name": "python3"
  },
  "language_info": {
   "codemirror_mode": {
    "name": "ipython",
    "version": 3
   },
   "file_extension": ".py",
   "mimetype": "text/x-python",
   "name": "python",
   "nbconvert_exporter": "python",
   "pygments_lexer": "ipython3",
   "version": "3.9.13"
  }
 },
 "nbformat": 4,
 "nbformat_minor": 5
}
